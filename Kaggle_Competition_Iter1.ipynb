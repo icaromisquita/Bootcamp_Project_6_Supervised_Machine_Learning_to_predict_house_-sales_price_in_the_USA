{
 "cells": [
  {
   "cell_type": "code",
   "execution_count": 1,
   "metadata": {
    "id": "Wqnkfc7j9Vbn"
   },
   "outputs": [],
   "source": [
    "import pandas as pd\n",
    "from sklearn.model_selection import train_test_split\n",
    "from sklearn.pipeline import Pipeline\n",
    "from sklearn.compose import ColumnTransformer\n",
    "from sklearn.impute import SimpleImputer\n",
    "from sklearn.preprocessing import MinMaxScaler, OneHotEncoder, OrdinalEncoder\n",
    "from sklearn.feature_selection import VarianceThreshold\n",
    "from sklearn.feature_selection import SelectFromModel\n",
    "from sklearn.tree import DecisionTreeRegressor\n",
    "from sklearn.linear_model import LinearRegression\n",
    "from sklearn.model_selection import GridSearchCV\n",
    "from sklearn import set_config\n",
    "set_config(display=\"diagram\")\n",
    "from sklearn.metrics import mean_squared_error, r2_score, mean_absolute_error\n",
    "\n",
    "from sklearn.impute import KNNImputer\n",
    "from sklearn.ensemble import RandomForestClassifier\n",
    "from sklearn.preprocessing import StandardScaler\n",
    "\n",
    "house = pd.read_csv('https://raw.githubusercontent.com/icaromisquita/archives/main/train.csv')\n",
    "\n",
    "X = house.drop(columns=['Id','SalePrice'])\n",
    "y = house['SalePrice']\n",
    "\n",
    "X_train, X_test, y_train, y_test = train_test_split(X, y, test_size=0.2, random_state=0)"
   ]
  },
  {
   "cell_type": "code",
   "execution_count": null,
   "metadata": {
    "colab": {
     "base_uri": "https://localhost:8080/",
     "height": 381
    },
    "id": "PB3GqjNd99L8",
    "outputId": "762306d9-dffd-4ab1-c6c7-fffa9a945f52"
   },
   "outputs": [
    {
     "name": "stderr",
     "output_type": "stream",
     "text": [
      "C:\\Users\\icaro\\anaconda3\\lib\\site-packages\\sklearn\\model_selection\\_split.py:666: UserWarning: The least populated class in y has only 1 members, which is less than n_splits=5.\n",
      "  warnings.warn((\"The least populated class in y has only %d\"\n"
     ]
    }
   ],
   "source": [
    "# numeric cols\n",
    "num_cols = X_train.select_dtypes(exclude=['object']).columns\n",
    "\n",
    "# ordinal cols\n",
    "ord_cols = ['ExterQual','ExterCond','KitchenQual','FireplaceQu']\n",
    "qualities = [\"Po\", \"Fa\", \"TA\", \"Gd\", \"Ex\"]\n",
    "na_qualities = [\"missing\",\"Po\", \"Fa\", \"TA\", \"Gd\", \"Ex\"]\n",
    "\n",
    "# nominal cols\n",
    "nom_cols = (\n",
    "    X_train\n",
    "    .drop(columns=ord_cols)\n",
    "    .select_dtypes(include=['object'])\n",
    "    .columns)\n",
    "\n",
    "\n",
    "# numeric pipeline\n",
    "num_pipe = Pipeline(steps=[\n",
    "    ('imputer', KNNImputer()),\n",
    "    ('scaler', StandardScaler())\n",
    "])\n",
    "\n",
    "# ordinal pipeline\n",
    "ord_pipe = Pipeline(steps=[\n",
    "    ('imputer', SimpleImputer()),\n",
    "    ('encoder', OrdinalEncoder())\n",
    "])\n",
    "\n",
    "# nominal pipeline\n",
    "nom_pipe = Pipeline(steps=[\n",
    "    ('imputer', SimpleImputer()),\n",
    "    ('onehot', OneHotEncoder())\n",
    "])\n",
    "\n",
    "# preprocessing pipeline\n",
    "preprocessor = ColumnTransformer(transformers=[\n",
    "        ('num', num_pipe, num_cols),\n",
    "        ('nom', nom_pipe, nom_cols),\n",
    "        ('ord', ord_pipe, ord_cols)\n",
    "])\n",
    "\n",
    "# model pipeline\n",
    "model_pipe = Pipeline(steps=[\n",
    "    ('preprocessor', preprocessor),\n",
    "    ('var_threshold', VarianceThreshold()),\n",
    "    ('mod_feature_sel', SelectFromModel(DecisionTreeRegressor())),\n",
    "    ('model', RandomForestClassifier())\n",
    "])\n",
    "\n",
    "\n",
    "# grid search parameters\n",
    "param_grid = {\n",
    "    'preprocessor__num__scaler__with_mean': [True, False],\n",
    "    'preprocessor__num__scaler__with_std': [True, False],\n",
    "    \"preprocessor__num__imputer__n_neighbors\": range(5, 20,5),\n",
    "    \"preprocessor__num__imputer__weights\": [\"uniform\",\"distance\"],\n",
    "\n",
    "    'preprocessor__ord__imputer__strategy': ['most_frequent', 'constant'],\n",
    "    'preprocessor__ord__imputer__fill_value': ['missing'],\n",
    "    'preprocessor__ord__encoder__categories': [[qualities for l in range(3)] + [na_qualities]],\n",
    "    'preprocessor__nom__imputer__strategy': ['most_frequent', 'constant'],\n",
    "    'preprocessor__nom__onehot__handle_unknown': ['ignore'],\n",
    "    'var_threshold__threshold': [0, 0.01, 0.02],\n",
    "    'mod_feature_sel__estimator__max_features': [None, 'auto', 'sqrt', 'log2'],\n",
    "    'mod_feature_sel__estimator__min_samples_leaf': [1, 2, 4],\n",
    "    \n",
    "\n",
    "    \"model__n_estimators\": range(100, 500, 50),\n",
    "    \"model__criterion\": [\"gini\", \"entropy\", \"log_loss\"],\n",
    "    \"model__max_depth\": range(4,10,2),\n",
    "    \"model__min_samples_split\": range(4,10,2),\n",
    "    \"model__min_samples_leaf\": range(2,10,2),\n",
    "}\n",
    "\n",
    "# grid search + cross validation\n",
    "grid_search = GridSearchCV(model_pipe, param_grid, cv=5, n_jobs=-1, verbose=0)\n",
    "grid_search.fit(X_train, y_train)"
   ]
  },
  {
   "cell_type": "code",
   "execution_count": null,
   "metadata": {
    "id": "44zdQfoc-vRg"
   },
   "outputs": [],
   "source": [
    "# get predictions\n",
    "predictions = grid_search.predict(X_train)\n",
    "\n",
    "# evaluate the model\n",
    "print(f\"R2 score: {r2_score(y_train, predictions)}\")\n",
    "print(f\"MSE: {mean_squared_error(y_train, predictions)}\")\n",
    "print(f\"MAE: {mean_absolute_error(y_train, predictions)}\")"
   ]
  },
  {
   "cell_type": "code",
   "execution_count": null,
   "metadata": {
    "id": "lFYCRi23-yel"
   },
   "outputs": [],
   "source": [
    "# get predictions\n",
    "predictions = grid_search.predict(X_test)\n",
    "\n",
    "# evaluate the model\n",
    "print(f\"R2 score: {r2_score(y_test, predictions)}\")\n",
    "print(f\"MSE: {mean_squared_error(y_test, predictions)}\")\n",
    "print(f\"MAE: {mean_absolute_error(y_test, predictions)}\")"
   ]
  },
  {
   "cell_type": "markdown",
   "metadata": {
    "id": "AnGxY3Nt-4pS"
   },
   "source": [
    "##Making the data to upload in the competition"
   ]
  },
  {
   "cell_type": "code",
   "execution_count": null,
   "metadata": {
    "id": "XLhaZnEG-6Db"
   },
   "outputs": [],
   "source": [
    "#from google.colab import files\n",
    "#test = pd.read_csv(\"https://raw.githubusercontent.com/icaromisquita/archives/main/test.csv\")\n",
    "\n",
    "(test\n",
    "    .assign(SalePrice = grid_search.predict(test))\n",
    "    .filter(['Id','SalePrice'])\n",
    "    .to_csv('./Kaggle_submission1.csv', index=False)\n",
    "    )\n",
    "#files.download('Kaggle_submission1.csv')"
   ]
  },
  {
   "cell_type": "code",
   "execution_count": null,
   "metadata": {
    "id": "LPMjUTL9Eb8c"
   },
   "outputs": [],
   "source": [
    "# get predictions\n",
    "predictions = grid_search.predict(test)\n",
    "\n",
    "# evaluate the model\n",
    "print(f\"R2 score: {r2_score(y_train, predictions)}\")\n",
    "print(f\"MSE: {mean_squared_error(y_train, predictions)}\")\n",
    "print(f\"MAE: {mean_absolute_error(y_train, predictions)}\")"
   ]
  }
 ],
 "metadata": {
  "colab": {
   "collapsed_sections": [],
   "provenance": []
  },
  "kernelspec": {
   "display_name": "Python 3 (ipykernel)",
   "language": "python",
   "name": "python3"
  },
  "language_info": {
   "codemirror_mode": {
    "name": "ipython",
    "version": 3
   },
   "file_extension": ".py",
   "mimetype": "text/x-python",
   "name": "python",
   "nbconvert_exporter": "python",
   "pygments_lexer": "ipython3",
   "version": "3.9.7"
  }
 },
 "nbformat": 4,
 "nbformat_minor": 1
}
